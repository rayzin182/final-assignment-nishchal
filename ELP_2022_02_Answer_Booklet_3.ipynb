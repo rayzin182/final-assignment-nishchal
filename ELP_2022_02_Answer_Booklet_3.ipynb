{
  "cells": [
    {
      "cell_type": "markdown",
      "metadata": {
        "id": "view-in-github",
        "colab_type": "text"
      },
      "source": [
        "<a href=\"https://colab.research.google.com/github/rayzin182/final-assignment-nishchal/blob/main/ELP_2022_02_Answer_Booklet_3.ipynb\" target=\"_parent\"><img src=\"https://colab.research.google.com/assets/colab-badge.svg\" alt=\"Open In Colab\"/></a>"
      ]
    },
    {
      "cell_type": "markdown",
      "metadata": {
        "id": "Rqo9OOSAuCdn"
      },
      "source": [
        "## Question 1 [40 Marks]:\n",
        "There is much more to creating a program than writing code. In ISYS5002, we followed a six-phase development cycle. Demonstrate the first four steps of the development cycle by **designing** an application that helps Python's Cafe owner, Ms. Robyn, to calculate the cost of their customers’ meal orders. The program should allow the user enter the `charges for the meal` at the cafe and then calculate and display the amount of `10 percent sales tax`, `15 percent tip` and the `total of all three amounts`.\n",
        "\n"
      ],
      "id": "Rqo9OOSAuCdn"
    },
    {
      "cell_type": "markdown",
      "source": [
        "**ANSWER: Program Design**   <*Add code/text cells as needed*>\n",
        "\n",
        "\n",
        "\n",
        "\n",
        "\n",
        "\n",
        "\n",
        "\n",
        "\n"
      ],
      "metadata": {
        "id": "FvQHYQujSSFk"
      },
      "id": "FvQHYQujSSFk"
    },
    {
      "cell_type": "markdown",
      "source": [
        "**Implement** your design. Your implementation should follow the best practices and demonstrate the last two steps of the methodology. This requirement includes input validation and testing. \n",
        "\n",
        "Save the Colab Notebook to your private GitHub repository.\n"
      ],
      "metadata": {
        "id": "ZGPychQzSAxo"
      },
      "id": "ZGPychQzSAxo"
    },
    {
      "cell_type": "markdown",
      "source": [
        "**ANSWER: Program Implementation**  <*Add code/text cells as needed*>"
      ],
      "metadata": {
        "id": "H1VSUx_uSlam"
      },
      "id": "H1VSUx_uSlam"
    },
    {
      "cell_type": "markdown",
      "source": [
        "1) Stating the problem \n",
        "\n",
        "    first program should be able to calculate the meal price.Ms.Robyn wants the billing program should be able to input the price of the meal (simple calculating the meal price). After that program should be able to add Salse tax that is 10% and add the tip charge 15% on the total bill which should be mentioned clearly in the output."
      ],
      "metadata": {
        "id": "ClJY3Gbietqn"
      },
      "id": "ClJY3Gbietqn"
    },
    {
      "cell_type": "markdown",
      "source": [
        "2)Describing input and out put.\n",
        "\n",
        "Input\n",
        "The input of the program will be the meal price. The program should ask the price of meal that they have order.\n",
        " Enter the charge of the Meal:\" \"\n",
        "\n",
        "OUT Put \n",
        "The out put should allow the user enter the charges for\n",
        "the meal at the cafe and then calculate and display the amount of 10 percent sales tax, 15 percent tip and the total of all three amounts.\n",
        "\n",
        "Sales Tax:  \n",
        "Tip:  \n",
        "Total: "
      ],
      "metadata": {
        "id": "axqpGUe5geSD"
      },
      "id": "axqpGUe5geSD"
    },
    {
      "cell_type": "markdown",
      "source": [
        "3) work the problems by hand.\n",
        "  if the user order the meal=$200\n",
        "    total = 200\n",
        "    sales tax= 200*0.1 =20\n",
        "    sales tips= 200*0.15 =30\n",
        "    the total bill=total+sales tax+ sales tips =250"
      ],
      "metadata": {
        "id": "RwlvyrA3jD2K"
      },
      "id": "RwlvyrA3jD2K"
    },
    {
      "cell_type": "markdown",
      "source": [
        "4) Develop Algorithm \n",
        "\n",
        "First ask for the price of meal as input.\n",
        "second  confirm the total meals.\n",
        "third calculate the total meal order by the consumer.\n",
        "fourth add sales tax 10%.\n",
        "fifth add tips charge 15% on the total bill.\n",
        "sixth print the price.\n"
      ],
      "metadata": {
        "id": "C9Rf9R80hkQY"
      },
      "id": "C9Rf9R80hkQY"
    },
    {
      "cell_type": "markdown",
      "source": [
        "5) pseudocode\n",
        "  Program start\n",
        "  **input** Ask the price in float(because we have to calculate the price in decimal)\n",
        "** loop** if multiple meal order \n",
        "  **add** all the meal ordered\n",
        " **Store** data \n",
        " ** function **CalculateSalesTax\n",
        " **function**CalculateTip\n",
        " **print** the result **output**"
      ],
      "metadata": {
        "id": "vahcZVpMkO4M"
      },
      "id": "vahcZVpMkO4M"
    },
    {
      "cell_type": "markdown",
      "source": [
        "Taking input from the user"
      ],
      "metadata": {
        "id": "8hrvsZBGtsIM"
      },
      "id": "8hrvsZBGtsIM"
    },
    {
      "cell_type": "code",
      "source": [
        "inp = input(\"Enter the charge of the Meal: \")"
      ],
      "metadata": {
        "id": "Ywst7XKPn_Uh"
      },
      "id": "Ywst7XKPn_Uh",
      "execution_count": null,
      "outputs": []
    },
    {
      "cell_type": "markdown",
      "source": [
        "creating space to store the data."
      ],
      "metadata": {
        "id": "Du_jaoRp9EDe"
      },
      "id": "Du_jaoRp9EDe"
    },
    {
      "cell_type": "code",
      "source": [
        "inp = input(\"Enter the charge of the Meal: \")\n",
        "\n",
        "TotalCharge = 0\n",
        " "
      ],
      "metadata": {
        "colab": {
          "base_uri": "https://localhost:8080/"
        },
        "id": "DnA6UqOQ3HXe",
        "outputId": "8fa56650-2a32-4c16-cf26-9bbdbb19e462"
      },
      "id": "DnA6UqOQ3HXe",
      "execution_count": 30,
      "outputs": [
        {
          "name": "stdout",
          "output_type": "stream",
          "text": [
            "Enter the charge of the Meal: 1\n"
          ]
        }
      ]
    },
    {
      "cell_type": "markdown",
      "source": [
        " now creating loop to stop the loop the program waits for the input 'end'.(to complete the order). Next is the try catch is used to verify that the user input is a valid input. If we put a string variable on float it must give a out put Not a valid Charge Amount"
      ],
      "metadata": {
        "id": "CuJ6n9xA4Dbt"
      },
      "id": "CuJ6n9xA4Dbt"
    },
    {
      "cell_type": "code",
      "source": [
        "    \n",
        "#TotalCharge will store total amount of charge before applying sales tax and tip\n",
        "TotalCharge = 0\n",
        "\n",
        "print(\"Enter 'end' if there is no charges left\")\n",
        "\n",
        "#loop will run continously until user input 'end'\n",
        "while True:\n",
        "    \n",
        "    inp = input(\"Enter the charge of the Meal: \")\n",
        "    try:\n",
        "        #verifying if the input is a number and converting it to float\n",
        "        charges_Input = float(inp)\n",
        "                      \n",
        "    except:\n",
        "        #Breaking the loop if user entered end in any format \n",
        "        if 'end' in inp.lower():\n",
        "            break\n",
        "        #if input is string but not 'end'\n",
        "        else:\n",
        "            print(\"Not a valid Charge Amount\")"
      ],
      "metadata": {
        "colab": {
          "base_uri": "https://localhost:8080/"
        },
        "id": "9IsBbILr4Ngo",
        "outputId": "20d05c69-0d20-47a1-af69-2ab5128fbdc2"
      },
      "id": "9IsBbILr4Ngo",
      "execution_count": null,
      "outputs": [
        {
          "output_type": "stream",
          "name": "stdout",
          "text": [
            "Enter 'end' if there is no charges left\n"
          ]
        }
      ]
    },
    {
      "cell_type": "markdown",
      "source": [
        "Now our program loop is perfectly working we need to do a calculation "
      ],
      "metadata": {
        "id": "zcDR0tMt7Hrm"
      },
      "id": "zcDR0tMt7Hrm"
    },
    {
      "cell_type": "code",
      "source": [
        "\n",
        "    \n",
        "#TotalCharge will store total amount of charge before applying sales tax and tip\n",
        "TotalCharge = 0\n",
        "\n",
        "print(\"Enter 'end' if there is no charges left\")\n",
        "\n",
        "#loop will run continously until user input 'end'\n",
        "while True:\n",
        "    \n",
        "    inp = input(\"Enter the charge of the Meal: \")\n",
        "    try:\n",
        "        #verifying if the input is a number and converting it to float\n",
        "        charges_Input = float(inp)\n",
        "\n",
        "        #adding each input to total charge\n",
        "        TotalCharge += charges_Input\n",
        "         \n",
        "                      \n",
        "    except:\n",
        "        #Breaking the loop if user entered end in any format \n",
        "        if 'end' in inp.lower():\n",
        "            break\n",
        "        #if input is string but not 'end'\n",
        "        else:\n",
        "            print(\"Not a valid Charge Amount\")\n",
        "            \n",
        "print(\"TotalCharge:\",TotalCharge)\n",
        "                "
      ],
      "metadata": {
        "colab": {
          "base_uri": "https://localhost:8080/"
        },
        "id": "59iMPIgk7S-P",
        "outputId": "a8f3de7a-cec2-4d4f-8c54-320a5e9ef273"
      },
      "id": "59iMPIgk7S-P",
      "execution_count": 41,
      "outputs": [
        {
          "output_type": "stream",
          "name": "stdout",
          "text": [
            "Enter 'end' if there is no charges left\n",
            "Enter the charge of the Meal: 25\n",
            "Enter the charge of the Meal: 55\n",
            "Enter the charge of the Meal: end\n",
            "TotalCharge: 80.0\n"
          ]
        }
      ]
    },
    {
      "cell_type": "markdown",
      "source": [
        "Now we can get the total we need a function to calculate the sales tax and tips"
      ],
      "metadata": {
        "id": "YSkYZsz78bTG"
      },
      "id": "YSkYZsz78bTG"
    },
    {
      "cell_type": "code",
      "source": [
        "#Function to Calculate SalesTax\n",
        "def CalculateSalesTax(TotalCharge):\n",
        "    return TotalCharge * 0.1\n",
        "\n",
        "#Function to Calculate Tip\n",
        "def CalculateTip(TotalCharge):\n",
        "    return TotalCharge * 0.15\n",
        "    #TotalCharge will store total amount of charge before applying sales tax and tip\n",
        "TotalCharge = 0\n",
        "\n",
        "print(\"Enter 'end' if there is no charges left\")\n",
        "\n",
        "#loop will run continously until user input 'end'\n",
        "while True:\n",
        "    \n",
        "    inp = input(\"Enter the charge of the Meal: \")\n",
        "    try:\n",
        "        #verifying if the input is a number and converting it to float\n",
        "        charges_Input = float(inp)\n",
        "\n",
        "        #adding each input to total charge\n",
        "        TotalCharge += charges_Input\n",
        "         \n",
        "                      \n",
        "    except:\n",
        "        #Breaking the loop if user entered end in any format \n",
        "        if 'end' in inp.lower():\n",
        "            break\n",
        "        #if input is string but not 'end'\n",
        "        else:\n",
        "            print(\"Not a valid Charge Amount\")\n",
        "            \n",
        "            \n",
        "print(\"TotalCharge:\",TotalCharge)"
      ],
      "metadata": {
        "colab": {
          "base_uri": "https://localhost:8080/"
        },
        "id": "2k0jwQ289osS",
        "outputId": "b0a1fbb9-b108-429f-ed9b-11097dd8031e"
      },
      "id": "2k0jwQ289osS",
      "execution_count": null,
      "outputs": [
        {
          "output_type": "stream",
          "name": "stdout",
          "text": [
            "Enter 'end' if there is no charges left\n"
          ]
        }
      ]
    },
    {
      "cell_type": "markdown",
      "source": [
        "After implementing a function the function must be invoked to get the output."
      ],
      "metadata": {
        "id": "Pnhir73i9-DK"
      },
      "id": "Pnhir73i9-DK"
    },
    {
      "cell_type": "code",
      "source": [
        "#Function to Calculate SalesTax\n",
        "def CalculateSalesTax(TotalCharge):\n",
        "    return TotalCharge * 0.1\n",
        "\n",
        "#Function to Calculate Tip\n",
        "def CalculateTip(TotalCharge):\n",
        "    return TotalCharge * 0.15\n",
        "    #TotalCharge will store total amount of charge before applying sales tax and tip\n",
        "TotalCharge = 0\n",
        "\n",
        "print(\"Enter 'end' if there is no charges left\")\n",
        "\n",
        "#loop will run continously until user input 'end'\n",
        "while True:\n",
        "    \n",
        "    inp = input(\"Enter the charge of the Meal: \")\n",
        "    try:\n",
        "        #verifying if the input is a number and converting it to float\n",
        "        charges_Input = float(inp)\n",
        "\n",
        "        #adding each input to total charge\n",
        "        TotalCharge += charges_Input\n",
        "         \n",
        "                      \n",
        "    except:\n",
        "        #Breaking the loop if user entered end in any format \n",
        "        if 'end' in inp.lower():\n",
        "            break\n",
        "        #if input is string but not 'end'\n",
        "        else:\n",
        "            print(\"Not a valid Charge Amount\")\n",
        "            \n",
        "            \n",
        "#Calculating sales tax, tip\n",
        "SalesTax = CalculateSalesTax(TotalCharge)\n",
        "Tip = CalculateTip(TotalCharge)\n",
        "Total = TotalCharge+SalesTax+Tip\n",
        "\n",
        "print(\"TotalCharge:\",TotalCharge)\n",
        "print(\"Sales Tax: \", SalesTax)\n",
        "print(\"Tip: \", Tip)\n",
        "print(\"Total: \", Total)"
      ],
      "metadata": {
        "colab": {
          "base_uri": "https://localhost:8080/"
        },
        "id": "JMT0yM55-FnZ",
        "outputId": "fae4f2c6-85fc-4e9e-d565-56437eea1363"
      },
      "id": "JMT0yM55-FnZ",
      "execution_count": 1,
      "outputs": [
        {
          "output_type": "stream",
          "name": "stdout",
          "text": [
            "Enter 'end' if there is no charges left\n",
            "Enter the charge of the Meal: 222\n",
            "Enter the charge of the Meal: 55\n",
            "Enter the charge of the Meal: end\n",
            "TotalCharge: 277.0\n",
            "Sales Tax:  27.700000000000003\n",
            "Tip:  41.55\n",
            "Total:  346.25\n"
          ]
        }
      ]
    },
    {
      "cell_type": "markdown",
      "source": [
        "The problem on previous "
      ],
      "metadata": {
        "id": "7wRvIXtc4b1m"
      },
      "id": "7wRvIXtc4b1m"
    },
    {
      "cell_type": "markdown",
      "source": [
        "6)Test solution with a veriety of data final version."
      ],
      "metadata": {
        "id": "zVNS5pS2n092"
      },
      "id": "zVNS5pS2n092"
    },
    {
      "cell_type": "code",
      "source": [
        "#Function to Calculate SalesTax\n",
        "def CalculateSalesTax(TotalCharge):\n",
        "    return TotalCharge * 0.1\n",
        "\n",
        "#Function to Calculate Tip\n",
        "def CalculateTip(TotalCharge):\n",
        "    return TotalCharge * 0.15\n",
        "\n",
        "#TotalCharge will store total amount of charge before applying sales tax and tip\n",
        "TotalCharge = 0\n",
        "\n",
        "print(\"Enter 'end' if there is no charges left\")\n",
        "\n",
        "#loop will run continously until user input 'end'\n",
        "while True:\n",
        "    \n",
        "    inp = input(\"Enter the charge of the Meal: \")\n",
        "    try:\n",
        "        #verifying if the input is a number and converting it to float\n",
        "        charges_Input = float(inp)\n",
        "        \n",
        "        #adding each input to total charge\n",
        "        TotalCharge += charges_Input\n",
        "        \n",
        "    except:\n",
        "        #Breaking the loop if user entered end in any format \n",
        "        if 'end' in inp.lower():\n",
        "            break\n",
        "        #if input is string but not 'end'\n",
        "        else:\n",
        "            print(\"Not a valid Charge Amount\")\n",
        "    \n",
        "\n",
        "#Calculating sales tax, tip\n",
        "SalesTax = CalculateSalesTax(TotalCharge)\n",
        "Tip = CalculateTip(TotalCharge)\n",
        "Total = TotalCharge+SalesTax+Tip\n",
        "\n",
        "print(\"TotalCharge:\",TotalCharge)\n",
        "print(\"Sales Tax: \", SalesTax)\n",
        "print(\"Tip: \", Tip)\n",
        "print(\"Total: \", Total)"
      ],
      "metadata": {
        "id": "hQonnn4JSu1N",
        "colab": {
          "base_uri": "https://localhost:8080/"
        },
        "outputId": "fec9243f-a3af-4ffd-b4ab-ad5b24387dc3"
      },
      "execution_count": 8,
      "outputs": [
        {
          "output_type": "stream",
          "name": "stdout",
          "text": [
            "Enter 'end' if there is no charges left\n",
            "Enter the charge of the Meal: 1\n",
            "Enter the charge of the Meal: 5\n",
            "Enter the charge of the Meal: end\n",
            "TotalCharge: 6.0\n",
            "Sales Tax:  0.6000000000000001\n",
            "Tip:  0.8999999999999999\n",
            "Total:  7.5\n"
          ]
        }
      ],
      "id": "hQonnn4JSu1N"
    },
    {
      "cell_type": "markdown",
      "id": "75e13390",
      "metadata": {
        "id": "75e13390"
      },
      "source": [
        "## Question 2 [20 Marks]:\n",
        "\n",
        "The `elp_cheer` function repeats the given word the specified number of times and then attaches exclamation marks at the end of the words.\n",
        "\n",
        "The code is not working. It contains errors and does not follow industry best practices. **Fix the mistakes, apply PEP 8 coding best practices and include appropriate comments to explain the code**. Save the Notebook to your GitHub repository."
      ]
    },
    {
      "cell_type": "code",
      "execution_count": null,
      "id": "3abab3b5",
      "metadata": {
        "id": "3abab3b5"
      },
      "outputs": [],
      "source": [
        "def elp_cheer(word, number, case):\n",
        "  '''\n",
        "  Sample output\n",
        "  >>> elp_cheer('hurray', 3, True)\n",
        "  'HURRAY HURRAY HURRAY !!!'\n",
        "  >>> elp_cheer('Hurray', 4, False)\n",
        "  'Hurray Hurray Hurray Hurray !!!'\n",
        "  >>> elp_cheer('hurray', 5, False)\n",
        "  'hurray hurray hurray hurray hurray !!!'\n",
        "  '''\n",
        "\n",
        "def elp_cheer(word, number, case):\n",
        "\n",
        "cheerword = word + \" \" * number * case \n",
        "    \n",
        "    if case is FALSE:\n",
        "    cheerwordnew = cheerword.Upper()\n",
        "    else\n",
        "    cheerwordnew = cheerword.Upper() + '!!!' \n",
        "\n",
        "return cheerwordnew\n",
        "\n",
        "\n"
      ]
    },
    {
      "cell_type": "markdown",
      "source": [
        "solution"
      ],
      "metadata": {
        "id": "hWIptK6Qx0I_"
      },
      "id": "hWIptK6Qx0I_"
    },
    {
      "cell_type": "code",
      "source": [
        "def elp_cheer(word, number, case):\n",
        "    \n",
        "    #Adding Space afer word using Concatination\n",
        "    word =  word + \" \"\n",
        "    \n",
        "    #Repeating given word using string multiplication and storing it to cheerword\n",
        "    cheerword = word * number\n",
        "    \n",
        "    #Checking if given word should be converted to UpperCase or Not\n",
        "    if case is True:\n",
        "        #If True word will be converted To Upper case and exclamation mark will be added at th end \n",
        "        cheerwordnew = cheerword.upper() + '!!!'\n",
        "    else:\n",
        "        #esle only exclamation mark will be added at th end\n",
        "        cheerwordnew = cheerword + '!!!'\n",
        "        \n",
        "    #returning final word with required modifications\n",
        "    return cheerwordnew"
      ],
      "metadata": {
        "id": "0qQo5Z7Vx2Uq"
      },
      "id": "0qQo5Z7Vx2Uq",
      "execution_count": 14,
      "outputs": []
    },
    {
      "cell_type": "markdown",
      "id": "351973d9",
      "metadata": {
        "id": "351973d9"
      },
      "source": [
        "## Question 3 [30 Marks] :\n",
        "Write a program the reads in sales.csv and compute the maximum, minimum and average profit for **sales performed on online channel** for countries in **Australia and Oceania region**. For each country in the Australia and Oceania region the plot their total profit. \n",
        "\n",
        "*(Hint: read the CSV into a Pandas dataframe, create a new dataframe for the region, and use the new dataframe for the calculations and bar chart. Compute the total profit before computing the max, min and average)*. \n",
        "\n",
        "Save your answer booklet to your GitHub repository.\n"
      ]
    },
    {
      "cell_type": "markdown",
      "source": [
        "First upload the csv file in google colab directory ."
      ],
      "metadata": {
        "id": "opvUytlLAGzC"
      },
      "id": "opvUytlLAGzC"
    },
    {
      "cell_type": "code",
      "source": [],
      "metadata": {
        "id": "hsaZrXGMASR6"
      },
      "id": "hsaZrXGMASR6",
      "execution_count": null,
      "outputs": []
    },
    {
      "cell_type": "code",
      "source": [
        "import pandas as pd\n",
        "\n",
        "#loading elp_sales_data.csv file\n",
        "dataFrame = pd.read_csv(\"elp_sales_data.csv\")\n",
        "\n",
        "#creating new DataFrame containing data of region 'Australia and Oceania'\n",
        "newDataFrame = dataFrame[(dataFrame[\"Region\"]=='Australia and Oceania')]\n",
        "\n",
        "#Creating new column with TotalProfit\n",
        "newDataFrame['Total Profit'] = newDataFrame['Total Revenue'] - newDataFrame['Total Cost']\n",
        "\n",
        "#Ploting Bar Chart for total profit of each Country in 'Australia and Oceania' region\n",
        "newDataFrame.plot(\"Country\",\"Total Profit\", kind=\"bar\")\n",
        "\n",
        "#Calculating min, max, average profit\n",
        "minProfit = newDataFrame['Total Profit'].min()\n",
        "maxProfit = newDataFrame['Total Profit'].max()\n",
        "averageProfit = newDataFrame['Total Profit'].mean()\n",
        "\n",
        "#printing min, max, average profit\n",
        "print(\"Min Profit: \", minProfit)\n",
        "print(\"Max Profit: \", maxProfit)\n",
        "print(\"Average Profit: \", averageProfit)"
      ],
      "metadata": {
        "id": "gnj4A5FTpjLt",
        "colab": {
          "base_uri": "https://localhost:8080/",
          "height": 611
        },
        "outputId": "2e8e3d12-8d73-48ec-db0d-d1ea37f2de82"
      },
      "id": "gnj4A5FTpjLt",
      "execution_count": 1,
      "outputs": [
        {
          "output_type": "stream",
          "name": "stderr",
          "text": [
            "/usr/local/lib/python3.7/dist-packages/ipykernel_launcher.py:10: SettingWithCopyWarning: \n",
            "A value is trying to be set on a copy of a slice from a DataFrame.\n",
            "Try using .loc[row_indexer,col_indexer] = value instead\n",
            "\n",
            "See the caveats in the documentation: https://pandas.pydata.org/pandas-docs/stable/user_guide/indexing.html#returning-a-view-versus-a-copy\n",
            "  # Remove the CWD from sys.path while we load stuff.\n"
          ]
        },
        {
          "output_type": "stream",
          "name": "stdout",
          "text": [
            "Min Profit:  5270.669999999998\n",
            "Max Profit:  1678540.98\n",
            "Average Profit:  429287.27545454545\n"
          ]
        },
        {
          "output_type": "display_data",
          "data": {
            "text/plain": [
              "<Figure size 432x288 with 1 Axes>"
            ],
            "image/png": "[encoded data removed]"
          },
          "metadata": {
            "needs_background": "light"
          }
        }
      ]
    },
    {
      "cell_type": "markdown",
      "source": [
        "## Question 4 [10 Marks]\n",
        "Write a report reflecting on the lectures, workshops, and assessments for this unit, and discuss whether we achieved the unit's learning outcomes. As an appendix to the report, please include a copy of the body of all your weekly journals in a Word document. Submit the word document via the Turnitin link on Blackboard.\n",
        "\n",
        "** DO NOT ANSWER HERE ** Your answer to Question 4 is to be completed in a Word Document."
      ],
      "metadata": {
        "id": "2EXbKLCuH5iH"
      },
      "id": "2EXbKLCuH5iH"
    }
  ],
  "metadata": {
    "kernelspec": {
      "display_name": "Python 3 (ipykernel)",
      "language": "python",
      "name": "python3"
    },
    "language_info": {
      "codemirror_mode": {
        "name": "ipython",
        "version": 3
      },
      "file_extension": ".py",
      "mimetype": "text/x-python",
      "name": "python",
      "nbconvert_exporter": "python",
      "pygments_lexer": "ipython3",
      "version": "3.9.7"
    },
    "colab": {
      "provenance": [],
      "collapsed_sections": [],
      "include_colab_link": true
    }
  },
  "nbformat": 4,
  "nbformat_minor": 5
}